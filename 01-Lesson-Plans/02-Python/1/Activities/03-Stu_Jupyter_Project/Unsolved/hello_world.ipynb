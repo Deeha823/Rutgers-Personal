{
 "cells": [
  {
   "cell_type": "markdown",
   "id": "4a9a4922",
   "metadata": {},
   "source": [
    "## My First Project \n",
    "- In this project we measure new techniques "
   ]
  },
  {
   "cell_type": "code",
   "execution_count": 3,
   "metadata": {},
   "outputs": [
    {
     "name": "stdout",
     "output_type": "stream",
     "text": [
      "hello\n"
     ]
    }
   ],
   "source": [
    "# print a statement: 'Hello World!'\n",
    "print(\"hello\")"
   ]
  },
  {
   "cell_type": "code",
   "execution_count": 4,
   "metadata": {},
   "outputs": [
    {
     "name": "stdout",
     "output_type": "stream",
     "text": [
      "hello world from a new cell\n"
     ]
    }
   ],
   "source": [
    "# print a statement: 'Hello World from a new cell'\n",
    "print(\"hello world from a new cell\")"
   ]
  },
  {
   "cell_type": "markdown",
   "id": "42544988",
   "metadata": {},
   "source": []
  }
 ],
 "metadata": {
  "kernelspec": {
   "display_name": "Python 3",
   "language": "python",
   "name": "python3"
  },
  "language_info": {
   "codemirror_mode": {
    "name": "ipython",
    "version": 3
   },
   "file_extension": ".py",
   "mimetype": "text/x-python",
   "name": "python",
   "nbconvert_exporter": "python",
   "pygments_lexer": "ipython3",
   "version": "3.9.7"
  }
 },
 "nbformat": 4,
 "nbformat_minor": 5
}
