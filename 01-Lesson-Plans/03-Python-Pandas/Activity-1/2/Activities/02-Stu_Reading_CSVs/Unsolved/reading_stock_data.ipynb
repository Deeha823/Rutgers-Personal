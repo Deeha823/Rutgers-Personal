{
 "cells": [
  {
   "cell_type": "markdown",
   "metadata": {},
   "source": [
    "# Student Activity: Reading Stocks Data from a CSV\n",
    "\n",
    "## 1. Import the pandas library as _pd_"
   ]
  },
  {
   "cell_type": "code",
   "execution_count": 1,
   "metadata": {},
   "outputs": [],
   "source": [
    "# initial imports\n",
    "import pandas as pd\n",
    "from pathlib import Path"
   ]
  },
  {
   "cell_type": "markdown",
   "metadata": {},
   "source": [
    "## 2. Create a dataframe reading a CSV file"
   ]
  },
  {
   "cell_type": "code",
   "execution_count": 2,
   "metadata": {},
   "outputs": [
    {
     "name": "stdout",
     "output_type": "stream",
     "text": [
      "   4/29/09  3.51  11537950   3.4  3.56  3.38\n",
      "0  4/30/09  3.61  18193730  3.55  3.73  3.53\n",
      "1   5/1/09  3.82  16233940  3.55  3.90  3.55\n",
      "2   5/4/09  4.26  21236940  3.90  4.30  3.83\n",
      "3   5/5/09  4.32  16369170  4.36  4.39  4.11\n",
      "4   5/6/09  4.31  15075630  4.45  4.45  4.12\n"
     ]
    }
   ],
   "source": [
    "# set the file path\n",
    "file_path= (\"../Resources/amd_stock_data.csv\")\n",
    "\n",
    "# create a Pandas dataframe from a csv file\n",
    "df = pd.read_csv(file_path)\n",
    "print(df.head())\n"
   ]
  },
  {
   "cell_type": "markdown",
   "metadata": {},
   "source": [
    "## 3. Exploring the data"
   ]
  },
  {
   "cell_type": "code",
   "execution_count": 21,
   "metadata": {},
   "outputs": [
    {
     "name": "stdout",
     "output_type": "stream",
     "text": [
      "   4/29/09  3.51  11537950   3.4  3.56  3.38\n",
      "0  4/30/09  3.61  18193730  3.55  3.73  3.53\n",
      "1   5/1/09  3.82  16233940  3.55  3.90  3.55\n",
      "2   5/4/09  4.26  21236940  3.90  4.30  3.83\n",
      "3   5/5/09  4.32  16369170  4.36  4.39  4.11\n",
      "4   5/6/09  4.31  15075630  4.45  4.45  4.12\n",
      "5   5/7/09  4.01  23369680  4.22  4.35  3.91\n",
      "6   5/8/09  3.93  14316080  4.12  4.15  3.84\n",
      "7  5/11/09  4.22  25214610  3.90  4.37  3.87\n",
      "8  5/12/09  4.35  29715910  4.41  4.50  4.13\n",
      "9  5/13/09  4.38  35462450  4.36  4.67  4.33\n"
     ]
    }
   ],
   "source": [
    "# get the first 10 rows from the dataframe\n",
    "print(df.head(10))"
   ]
  },
  {
   "cell_type": "markdown",
   "metadata": {},
   "source": [
    "## 4. Fixing column names"
   ]
  },
  {
   "cell_type": "code",
   "execution_count": 23,
   "metadata": {},
   "outputs": [
    {
     "name": "stdout",
     "output_type": "stream",
     "text": [
      "Index(['4/29/09', '3.51', '11537950', '3.4', '3.56', '3.38'], dtype='object')\n",
      "4/29/09\n",
      "3.51\n",
      "11537950\n",
      "3.4\n",
      "3.56\n",
      "3.38\n"
     ]
    }
   ],
   "source": [
    "# set colum names\n",
    "print(df.columns)\n",
    "for col_name in df.columns:\n",
    "    print(col_name)\n",
    "\n",
    "df = pd.read_csv('file_path', names=['Date',''])\n",
    "# recreate the dataframe\n",
    "\n",
    "\n",
    "# add columns names\n"
   ]
  },
  {
   "cell_type": "markdown",
   "metadata": {},
   "source": [
    "## 5. Get the first 10 rows"
   ]
  },
  {
   "cell_type": "code",
   "execution_count": null,
   "metadata": {},
   "outputs": [],
   "source": [
    "# get the first 10 rows from the dataframe\n"
   ]
  },
  {
   "cell_type": "markdown",
   "metadata": {},
   "source": [
    "## 6. Get the bottom 10 rows"
   ]
  },
  {
   "cell_type": "code",
   "execution_count": null,
   "metadata": {},
   "outputs": [],
   "source": [
    "# get the bottom 10 rows from the dataframe\n"
   ]
  }
 ],
 "metadata": {
  "interpreter": {
   "hash": "e3ee04f2afad1f7b3bcddfc2b8f6cef63d755e3ef2e7fafb3c6cf665b632e034"
  },
  "kernelspec": {
   "display_name": "dev",
   "language": "python",
   "name": "python3"
  },
  "language_info": {
   "codemirror_mode": {
    "name": "ipython",
    "version": 3
   },
   "file_extension": ".py",
   "mimetype": "text/x-python",
   "name": "python",
   "nbconvert_exporter": "python",
   "pygments_lexer": "ipython3",
   "version": "3.7.11"
  }
 },
 "nbformat": 4,
 "nbformat_minor": 2
}
