{
 "cells": [
  {
   "cell_type": "markdown",
   "metadata": {},
   "source": [
    "# Student Activity: Tokenizing Reuters"
   ]
  },
  {
   "cell_type": "code",
   "execution_count": 1,
   "metadata": {},
   "outputs": [
    {
     "name": "stderr",
     "output_type": "stream",
     "text": [
      "[nltk_data] Downloading package reuters to\n",
      "[nltk_data]     C:\\Users\\wadee\\AppData\\Roaming\\nltk_data...\n",
      "[nltk_data]   Package reuters is already up-to-date!\n",
      "[nltk_data] Downloading package punkt to\n",
      "[nltk_data]     C:\\Users\\wadee\\AppData\\Roaming\\nltk_data...\n",
      "[nltk_data]   Package punkt is already up-to-date!\n"
     ]
    },
    {
     "data": {
      "text/plain": [
       "True"
      ]
     },
     "execution_count": 1,
     "metadata": {},
     "output_type": "execute_result"
    }
   ],
   "source": [
    "from nltk.corpus import reuters\n",
    "from nltk.tokenize import sent_tokenize, word_tokenize\n",
    "import pandas as pd\n",
    "\n",
    "# Code to download corpora\n",
    "import nltk\n",
    "nltk.download('reuters')\n",
    "nltk.download('punkt')"
   ]
  },
  {
   "cell_type": "code",
   "execution_count": 2,
   "metadata": {},
   "outputs": [
    {
     "name": "stdout",
     "output_type": "stream",
     "text": [
      "['acq', 'alum', 'barley', 'bop', 'carcass', 'castor-oil', 'cocoa', 'coconut', 'coconut-oil', 'coffee', 'copper', 'copra-cake', 'corn', 'cotton', 'cotton-oil', 'cpi', 'cpu', 'crude', 'dfl', 'dlr', 'dmk', 'earn', 'fuel', 'gas', 'gnp', 'gold', 'grain', 'groundnut', 'groundnut-oil', 'heat', 'hog', 'housing', 'income', 'instal-debt', 'interest', 'ipi', 'iron-steel', 'jet', 'jobs', 'l-cattle', 'lead', 'lei', 'lin-oil', 'livestock', 'lumber', 'meal-feed', 'money-fx', 'money-supply', 'naphtha', 'nat-gas', 'nickel', 'nkr', 'nzdlr', 'oat', 'oilseed', 'orange', 'palladium', 'palm-oil', 'palmkernel', 'pet-chem', 'platinum', 'potato', 'propane', 'rand', 'rape-oil', 'rapeseed', 'reserves', 'retail', 'rice', 'rubber', 'rye', 'ship', 'silver', 'sorghum', 'soy-meal', 'soy-oil', 'soybean', 'strategic-metal', 'sugar', 'sun-meal', 'sun-oil', 'sunseed', 'tea', 'tin', 'trade', 'veg-oil', 'wheat', 'wpi', 'yen', 'zinc']\n"
     ]
    }
   ],
   "source": [
    "# Search through all categories\n",
    "print(reuters.categories())"
   ]
  },
  {
   "cell_type": "code",
   "execution_count": 11,
   "metadata": {},
   "outputs": [],
   "source": [
    "# Get all fileids associated with cpi\n",
    "id = reuters.fileids(categories = 'cpi')[0]"
   ]
  },
  {
   "cell_type": "code",
   "execution_count": 12,
   "metadata": {},
   "outputs": [
    {
     "ename": "OSError",
     "evalue": "Zipfile 'C:\\\\Users\\\\wadee\\\\AppData\\\\Roaming\\\\nltk_data\\\\corpora\\\\reuters.zip' does not contain 'reuters/id'",
     "output_type": "error",
     "traceback": [
      "\u001b[1;31m---------------------------------------------------------------------------\u001b[0m",
      "\u001b[1;31mKeyError\u001b[0m                                  Traceback (most recent call last)",
      "\u001b[1;32mc:\\Users\\wadee\\anaconda3\\envs\\dev\\lib\\site-packages\\nltk\\data.py\u001b[0m in \u001b[0;36m__init__\u001b[1;34m(self, zipfile, entry)\u001b[0m\n\u001b[0;32m    402\u001b[0m             \u001b[1;32mtry\u001b[0m\u001b[1;33m:\u001b[0m\u001b[1;33m\u001b[0m\u001b[1;33m\u001b[0m\u001b[0m\n\u001b[1;32m--> 403\u001b[1;33m                 \u001b[0mzipfile\u001b[0m\u001b[1;33m.\u001b[0m\u001b[0mgetinfo\u001b[0m\u001b[1;33m(\u001b[0m\u001b[0mentry\u001b[0m\u001b[1;33m)\u001b[0m\u001b[1;33m\u001b[0m\u001b[1;33m\u001b[0m\u001b[0m\n\u001b[0m\u001b[0;32m    404\u001b[0m             \u001b[1;32mexcept\u001b[0m \u001b[0mException\u001b[0m \u001b[1;32mas\u001b[0m \u001b[0me\u001b[0m\u001b[1;33m:\u001b[0m\u001b[1;33m\u001b[0m\u001b[1;33m\u001b[0m\u001b[0m\n",
      "\u001b[1;32mc:\\Users\\wadee\\anaconda3\\envs\\dev\\lib\\zipfile.py\u001b[0m in \u001b[0;36mgetinfo\u001b[1;34m(self, name)\u001b[0m\n\u001b[0;32m   1430\u001b[0m             raise KeyError(\n\u001b[1;32m-> 1431\u001b[1;33m                 'There is no item named %r in the archive' % name)\n\u001b[0m\u001b[0;32m   1432\u001b[0m \u001b[1;33m\u001b[0m\u001b[0m\n",
      "\u001b[1;31mKeyError\u001b[0m: \"There is no item named 'reuters/id' in the archive\"",
      "\nThe above exception was the direct cause of the following exception:\n",
      "\u001b[1;31mOSError\u001b[0m                                   Traceback (most recent call last)",
      "\u001b[1;32m~\\AppData\\Local\\Temp/ipykernel_19492/1656203294.py\u001b[0m in \u001b[0;36m<module>\u001b[1;34m\u001b[0m\n\u001b[1;32m----> 1\u001b[1;33m \u001b[0marticle\u001b[0m \u001b[1;33m=\u001b[0m \u001b[0mreuters\u001b[0m\u001b[1;33m.\u001b[0m\u001b[0mraw\u001b[0m\u001b[1;33m(\u001b[0m\u001b[1;34m'id'\u001b[0m\u001b[1;33m)\u001b[0m\u001b[1;33m\u001b[0m\u001b[1;33m\u001b[0m\u001b[0m\n\u001b[0m\u001b[0;32m      2\u001b[0m \u001b[0mprint\u001b[0m\u001b[1;33m(\u001b[0m\u001b[0marticle\u001b[0m\u001b[1;33m)\u001b[0m\u001b[1;33m\u001b[0m\u001b[1;33m\u001b[0m\u001b[0m\n",
      "\u001b[1;32mc:\\Users\\wadee\\anaconda3\\envs\\dev\\lib\\site-packages\\nltk\\corpus\\reader\\api.py\u001b[0m in \u001b[0;36mraw\u001b[1;34m(self, fileids, categories)\u001b[0m\n\u001b[0;32m    400\u001b[0m \u001b[1;33m\u001b[0m\u001b[0m\n\u001b[0;32m    401\u001b[0m     \u001b[1;32mdef\u001b[0m \u001b[0mraw\u001b[0m\u001b[1;33m(\u001b[0m\u001b[0mself\u001b[0m\u001b[1;33m,\u001b[0m \u001b[0mfileids\u001b[0m\u001b[1;33m=\u001b[0m\u001b[1;32mNone\u001b[0m\u001b[1;33m,\u001b[0m \u001b[0mcategories\u001b[0m\u001b[1;33m=\u001b[0m\u001b[1;32mNone\u001b[0m\u001b[1;33m)\u001b[0m\u001b[1;33m:\u001b[0m\u001b[1;33m\u001b[0m\u001b[1;33m\u001b[0m\u001b[0m\n\u001b[1;32m--> 402\u001b[1;33m         \u001b[1;32mreturn\u001b[0m \u001b[0msuper\u001b[0m\u001b[1;33m(\u001b[0m\u001b[1;33m)\u001b[0m\u001b[1;33m.\u001b[0m\u001b[0mraw\u001b[0m\u001b[1;33m(\u001b[0m\u001b[0mself\u001b[0m\u001b[1;33m.\u001b[0m\u001b[0m_resolve\u001b[0m\u001b[1;33m(\u001b[0m\u001b[0mfileids\u001b[0m\u001b[1;33m,\u001b[0m \u001b[0mcategories\u001b[0m\u001b[1;33m)\u001b[0m\u001b[1;33m)\u001b[0m\u001b[1;33m\u001b[0m\u001b[1;33m\u001b[0m\u001b[0m\n\u001b[0m\u001b[0;32m    403\u001b[0m \u001b[1;33m\u001b[0m\u001b[0m\n\u001b[0;32m    404\u001b[0m     \u001b[1;32mdef\u001b[0m \u001b[0mwords\u001b[0m\u001b[1;33m(\u001b[0m\u001b[0mself\u001b[0m\u001b[1;33m,\u001b[0m \u001b[0mfileids\u001b[0m\u001b[1;33m=\u001b[0m\u001b[1;32mNone\u001b[0m\u001b[1;33m,\u001b[0m \u001b[0mcategories\u001b[0m\u001b[1;33m=\u001b[0m\u001b[1;32mNone\u001b[0m\u001b[1;33m)\u001b[0m\u001b[1;33m:\u001b[0m\u001b[1;33m\u001b[0m\u001b[1;33m\u001b[0m\u001b[0m\n",
      "\u001b[1;32mc:\\Users\\wadee\\anaconda3\\envs\\dev\\lib\\site-packages\\nltk\\corpus\\reader\\api.py\u001b[0m in \u001b[0;36mraw\u001b[1;34m(self, fileids)\u001b[0m\n\u001b[0;32m    215\u001b[0m         \u001b[0mcontents\u001b[0m \u001b[1;33m=\u001b[0m \u001b[1;33m[\u001b[0m\u001b[1;33m]\u001b[0m\u001b[1;33m\u001b[0m\u001b[1;33m\u001b[0m\u001b[0m\n\u001b[0;32m    216\u001b[0m         \u001b[1;32mfor\u001b[0m \u001b[0mf\u001b[0m \u001b[1;32min\u001b[0m \u001b[0mfileids\u001b[0m\u001b[1;33m:\u001b[0m\u001b[1;33m\u001b[0m\u001b[1;33m\u001b[0m\u001b[0m\n\u001b[1;32m--> 217\u001b[1;33m             \u001b[1;32mwith\u001b[0m \u001b[0mself\u001b[0m\u001b[1;33m.\u001b[0m\u001b[0mopen\u001b[0m\u001b[1;33m(\u001b[0m\u001b[0mf\u001b[0m\u001b[1;33m)\u001b[0m \u001b[1;32mas\u001b[0m \u001b[0mfp\u001b[0m\u001b[1;33m:\u001b[0m\u001b[1;33m\u001b[0m\u001b[1;33m\u001b[0m\u001b[0m\n\u001b[0m\u001b[0;32m    218\u001b[0m                 \u001b[0mcontents\u001b[0m\u001b[1;33m.\u001b[0m\u001b[0mappend\u001b[0m\u001b[1;33m(\u001b[0m\u001b[0mfp\u001b[0m\u001b[1;33m.\u001b[0m\u001b[0mread\u001b[0m\u001b[1;33m(\u001b[0m\u001b[1;33m)\u001b[0m\u001b[1;33m)\u001b[0m\u001b[1;33m\u001b[0m\u001b[1;33m\u001b[0m\u001b[0m\n\u001b[0;32m    219\u001b[0m         \u001b[1;32mreturn\u001b[0m \u001b[0mconcat\u001b[0m\u001b[1;33m(\u001b[0m\u001b[0mcontents\u001b[0m\u001b[1;33m)\u001b[0m\u001b[1;33m\u001b[0m\u001b[1;33m\u001b[0m\u001b[0m\n",
      "\u001b[1;32mc:\\Users\\wadee\\anaconda3\\envs\\dev\\lib\\site-packages\\nltk\\corpus\\reader\\api.py\u001b[0m in \u001b[0;36mopen\u001b[1;34m(self, file)\u001b[0m\n\u001b[0;32m    228\u001b[0m         \"\"\"\n\u001b[0;32m    229\u001b[0m         \u001b[0mencoding\u001b[0m \u001b[1;33m=\u001b[0m \u001b[0mself\u001b[0m\u001b[1;33m.\u001b[0m\u001b[0mencoding\u001b[0m\u001b[1;33m(\u001b[0m\u001b[0mfile\u001b[0m\u001b[1;33m)\u001b[0m\u001b[1;33m\u001b[0m\u001b[1;33m\u001b[0m\u001b[0m\n\u001b[1;32m--> 230\u001b[1;33m         \u001b[0mstream\u001b[0m \u001b[1;33m=\u001b[0m \u001b[0mself\u001b[0m\u001b[1;33m.\u001b[0m\u001b[0m_root\u001b[0m\u001b[1;33m.\u001b[0m\u001b[0mjoin\u001b[0m\u001b[1;33m(\u001b[0m\u001b[0mfile\u001b[0m\u001b[1;33m)\u001b[0m\u001b[1;33m.\u001b[0m\u001b[0mopen\u001b[0m\u001b[1;33m(\u001b[0m\u001b[0mencoding\u001b[0m\u001b[1;33m)\u001b[0m\u001b[1;33m\u001b[0m\u001b[1;33m\u001b[0m\u001b[0m\n\u001b[0m\u001b[0;32m    231\u001b[0m         \u001b[1;32mreturn\u001b[0m \u001b[0mstream\u001b[0m\u001b[1;33m\u001b[0m\u001b[1;33m\u001b[0m\u001b[0m\n\u001b[0;32m    232\u001b[0m \u001b[1;33m\u001b[0m\u001b[0m\n",
      "\u001b[1;32mc:\\Users\\wadee\\anaconda3\\envs\\dev\\lib\\site-packages\\nltk\\data.py\u001b[0m in \u001b[0;36mjoin\u001b[1;34m(self, fileid)\u001b[0m\n\u001b[0;32m    449\u001b[0m     \u001b[1;32mdef\u001b[0m \u001b[0mjoin\u001b[0m\u001b[1;33m(\u001b[0m\u001b[0mself\u001b[0m\u001b[1;33m,\u001b[0m \u001b[0mfileid\u001b[0m\u001b[1;33m)\u001b[0m\u001b[1;33m:\u001b[0m\u001b[1;33m\u001b[0m\u001b[1;33m\u001b[0m\u001b[0m\n\u001b[0;32m    450\u001b[0m         \u001b[0mentry\u001b[0m \u001b[1;33m=\u001b[0m \u001b[1;34mf\"{self._entry}/{fileid}\"\u001b[0m\u001b[1;33m\u001b[0m\u001b[1;33m\u001b[0m\u001b[0m\n\u001b[1;32m--> 451\u001b[1;33m         \u001b[1;32mreturn\u001b[0m \u001b[0mZipFilePathPointer\u001b[0m\u001b[1;33m(\u001b[0m\u001b[0mself\u001b[0m\u001b[1;33m.\u001b[0m\u001b[0m_zipfile\u001b[0m\u001b[1;33m,\u001b[0m \u001b[0mentry\u001b[0m\u001b[1;33m)\u001b[0m\u001b[1;33m\u001b[0m\u001b[1;33m\u001b[0m\u001b[0m\n\u001b[0m\u001b[0;32m    452\u001b[0m \u001b[1;33m\u001b[0m\u001b[0m\n\u001b[0;32m    453\u001b[0m     \u001b[1;32mdef\u001b[0m \u001b[0m__repr__\u001b[0m\u001b[1;33m(\u001b[0m\u001b[0mself\u001b[0m\u001b[1;33m)\u001b[0m\u001b[1;33m:\u001b[0m\u001b[1;33m\u001b[0m\u001b[1;33m\u001b[0m\u001b[0m\n",
      "\u001b[1;32mc:\\Users\\wadee\\anaconda3\\envs\\dev\\lib\\site-packages\\nltk\\compat.py\u001b[0m in \u001b[0;36m_decorator\u001b[1;34m(*args, **kwargs)\u001b[0m\n\u001b[0;32m     39\u001b[0m     \u001b[1;32mdef\u001b[0m \u001b[0m_decorator\u001b[0m\u001b[1;33m(\u001b[0m\u001b[1;33m*\u001b[0m\u001b[0margs\u001b[0m\u001b[1;33m,\u001b[0m \u001b[1;33m**\u001b[0m\u001b[0mkwargs\u001b[0m\u001b[1;33m)\u001b[0m\u001b[1;33m:\u001b[0m\u001b[1;33m\u001b[0m\u001b[1;33m\u001b[0m\u001b[0m\n\u001b[0;32m     40\u001b[0m         \u001b[0margs\u001b[0m \u001b[1;33m=\u001b[0m \u001b[1;33m(\u001b[0m\u001b[0margs\u001b[0m\u001b[1;33m[\u001b[0m\u001b[1;36m0\u001b[0m\u001b[1;33m]\u001b[0m\u001b[1;33m,\u001b[0m \u001b[0madd_py3_data\u001b[0m\u001b[1;33m(\u001b[0m\u001b[0margs\u001b[0m\u001b[1;33m[\u001b[0m\u001b[1;36m1\u001b[0m\u001b[1;33m]\u001b[0m\u001b[1;33m)\u001b[0m\u001b[1;33m)\u001b[0m \u001b[1;33m+\u001b[0m \u001b[0margs\u001b[0m\u001b[1;33m[\u001b[0m\u001b[1;36m2\u001b[0m\u001b[1;33m:\u001b[0m\u001b[1;33m]\u001b[0m\u001b[1;33m\u001b[0m\u001b[1;33m\u001b[0m\u001b[0m\n\u001b[1;32m---> 41\u001b[1;33m         \u001b[1;32mreturn\u001b[0m \u001b[0minit_func\u001b[0m\u001b[1;33m(\u001b[0m\u001b[1;33m*\u001b[0m\u001b[0margs\u001b[0m\u001b[1;33m,\u001b[0m \u001b[1;33m**\u001b[0m\u001b[0mkwargs\u001b[0m\u001b[1;33m)\u001b[0m\u001b[1;33m\u001b[0m\u001b[1;33m\u001b[0m\u001b[0m\n\u001b[0m\u001b[0;32m     42\u001b[0m \u001b[1;33m\u001b[0m\u001b[0m\n\u001b[0;32m     43\u001b[0m     \u001b[1;32mreturn\u001b[0m \u001b[0mwraps\u001b[0m\u001b[1;33m(\u001b[0m\u001b[0minit_func\u001b[0m\u001b[1;33m)\u001b[0m\u001b[1;33m(\u001b[0m\u001b[0m_decorator\u001b[0m\u001b[1;33m)\u001b[0m\u001b[1;33m\u001b[0m\u001b[1;33m\u001b[0m\u001b[0m\n",
      "\u001b[1;32mc:\\Users\\wadee\\anaconda3\\envs\\dev\\lib\\site-packages\\nltk\\data.py\u001b[0m in \u001b[0;36m__init__\u001b[1;34m(self, zipfile, entry)\u001b[0m\n\u001b[0;32m    415\u001b[0m                     raise OSError(\n\u001b[0;32m    416\u001b[0m                         \u001b[1;34mf\"Zipfile {zipfile.filename!r} does not contain {entry!r}\"\u001b[0m\u001b[1;33m\u001b[0m\u001b[1;33m\u001b[0m\u001b[0m\n\u001b[1;32m--> 417\u001b[1;33m                     ) from e\n\u001b[0m\u001b[0;32m    418\u001b[0m         \u001b[0mself\u001b[0m\u001b[1;33m.\u001b[0m\u001b[0m_zipfile\u001b[0m \u001b[1;33m=\u001b[0m \u001b[0mzipfile\u001b[0m\u001b[1;33m\u001b[0m\u001b[1;33m\u001b[0m\u001b[0m\n\u001b[0;32m    419\u001b[0m         \u001b[0mself\u001b[0m\u001b[1;33m.\u001b[0m\u001b[0m_entry\u001b[0m \u001b[1;33m=\u001b[0m \u001b[0mentry\u001b[0m\u001b[1;33m\u001b[0m\u001b[1;33m\u001b[0m\u001b[0m\n",
      "\u001b[1;31mOSError\u001b[0m: Zipfile 'C:\\\\Users\\\\wadee\\\\AppData\\\\Roaming\\\\nltk_data\\\\corpora\\\\reuters.zip' does not contain 'reuters/id'"
     ]
    }
   ],
   "source": [
    "article = reuters.raw('id')\n",
    "print(article)"
   ]
  },
  {
   "cell_type": "code",
   "execution_count": 5,
   "metadata": {},
   "outputs": [
    {
     "data": {
      "text/plain": [
       "[\"ECONOMIC SPOTLIGHT - KUWAITI ECONOMY\\n  Kuwait's oil-reliant and debt-ridden\\n  economy has started to pull out of a nosedive but oil prices\\n  will determine the pace of recovery, bankers and economists\\n  say\",\n",
       " '\\n      Crucial will be the ability of the 13-member OPEC to hold\\n  oil prices around a new benchmark of 18 dlrs a barrel in the\\n  northern hemisphere summer when demand usually slackens',\n",
       " '\\n      Bankers estimate the economy, measured in terms of gross\\n  domestic product (gdp), shrank 19 pct in real terms last year\\n  after contracting 8',\n",
       " '1 pct the year before',\n",
       " '\\n      This was after taking into account inflation in consumer\\n  prices of 1',\n",
       " '5 pct in 1985, slowing to 1',\n",
       " '0 pct in 1986',\n",
       " \"\\n      Factors depressing economic activity include the\\n  6-1/2-year-old Iran-Iraq war on Kuwait's doorstep, which\\n  threatens the emirate's vital oil export lifeline through the\\n  Gulf and has sapped business confidence\",\n",
       " '\\n      But sentiment received a much-needed boost in September\\n  when, after a series of piecemeal steps to combat a debt crisis\\n  caused by the 1982 crash of local stock market, a comprehensive\\n  new debt settlement program was introduced',\n",
       " '\\n      The share crash, result of a speculative spree in forward\\n  trading, left 95 billion dlrs of post-dated cheques in default',\n",
       " '\\n      The cheques were also used as collateral for consumer\\n  spending, thus generating an informal credit system',\n",
       " '\\n      Much of the debt has been watered down but big sums are\\n  still owed by individuals and companies',\n",
       " '\\n      There was some 4',\n",
       " '4 billion dinars (about 15',\n",
       " '7 billion dlrs)\\n  in outstanding bank credit at the end of 1986, of which\\n  one-quarter to one-third was estimated by bankers to rank as\\n  bad or doubtful debt',\n",
       " ' But the government has repeatedly said it\\n  will not allow any banks to go under',\n",
       " '\\n      The new debt settlement scheme entails a rescheduling of\\n  problem credit over 10 to 15 years, depending on whether\\n  debtors have regular cash flows or not',\n",
       " \"\\n      Banks' shareholders and depositors will have their rights\\n  guaranteed by the government -- an edict of vital significance\\n  in a country of only 1\",\n",
       " '7 mln people where the financial sector\\n  is the biggest after oil',\n",
       " '\\n      Kuwait is better placed than any other OPEC country to ride\\n  out the oil glut, bankers and economists say',\n",
       " '\\n      Kuwait has an OPEC quota of 948,000 barrels per day (bpd)\\n  compared with production capacity of 4',\n",
       " '0 mln bpd mentioned last\\n  year by Oil Minister Sheikh Ali al-Khalifa al-Sabah',\n",
       " '\\n      But strategic diversification into downstream operations in\\n  Europe several years ago and a hefty refining investment at\\n  home gives it guaranteed markets abroad and enables it to sell\\n  over one-half of its output as high-grade refined oil products',\n",
       " '\\n      Oil industry sources say Kuwait is able to get an average\\n  2',\n",
       " '00 dlrs a barrel more by selling oil in the form of processed\\n  product such as gas oil, kerosene and naphtha, rather than as\\n  crude',\n",
       " '\\n      Bankers say the rebound in oil prices is the major reason\\n  for cautious optimism',\n",
       " ' Other reasons are low domestic\\n  inflation, a bottoming out of the fall in imports in recent\\n  years and signs government spending on productive sectors will\\n  remain steady',\n",
       " '\\n      External accounts are in good shape, with an estimated 1',\n",
       " '8\\n  billion dinar current account surplus in 1986, 16 pct below\\n  that for 1985, but still an achievement in the recession-hit\\n  Gulf',\n",
       " \"\\n      Kuwait's petrodollar reserves in mid-1986 were put\\n  officially at over 80 billion dlrs, earning investment income\\n  of the equivalent of about 3\",\n",
       " '65 billion dlrs a year',\n",
       " '\\n      But for the first time since the end of the oil boom, these\\n  reserves may not be enough to prevent a \"real\" budget deficit for\\n  the 1986/87 fiscal year ending June 30, bankers say',\n",
       " '\\n      In a budget portrayed by bankers as mildly contractionary,\\n  revenues for 1986/87 were cut 38',\n",
       " '6 pct and spending 11 pct,\\n  doubling the nominal deficit to 1',\n",
       " '33 billion dinars',\n",
       " '\\n      This left out income from state reserves, usually excluded\\n  in official budget accounting, which are forecast by bankers at\\n  up to 1',\n",
       " '0 billion dinars in 1986/87, resulting in some\\n  shortfall',\n",
       " '\\n      Bankers say it is too early to venture a forecast for\\n  economic growth this year or next',\n",
       " '\\n      \"It depends on oil prices,\" one said',\n",
       " ' \"This summer is\\n  important',\n",
       " '\"\\n      Cabinet Affairs Minister Rashid al-Rashid said last Sunday\\n  the cabinet has ratified recommendations to rationalise state\\n  spending in favour of productive sectors and reactivate the\\n  economy',\n",
       " '\\n      He gave no details but bankers say these are expected to be\\n  spelled out in the 1987/88 budget, possibly in June',\n",
       " '\\n  \\n\\n']"
      ]
     },
     "execution_count": 5,
     "metadata": {},
     "output_type": "execute_result"
    }
   ],
   "source": [
    "article.split('.')"
   ]
  },
  {
   "cell_type": "code",
   "execution_count": 6,
   "metadata": {},
   "outputs": [
    {
     "name": "stdout",
     "output_type": "stream",
     "text": [
      "['ECONOMIC', 'SPOTLIGHT', '-', 'KUWAITI', 'ECONOMY\\n', '', \"Kuwait's\", 'oil-reliant', 'and', 'debt-ridden\\n', '', 'economy', 'has', 'started', 'to', 'pull', 'out', 'of', 'a', 'nosedive', 'but', 'oil', 'prices\\n', '', 'will', 'determine', 'the', 'pace', 'of', 'recovery,', 'bankers', 'and', 'economists\\n', '', 'say']\n"
     ]
    }
   ],
   "source": [
    "sent = article.split('.')[0]\n",
    "print(sent.split(' '))"
   ]
  },
  {
   "cell_type": "code",
   "execution_count": 7,
   "metadata": {},
   "outputs": [
    {
     "data": {
      "text/plain": [
       "[\"ECONOMIC SPOTLIGHT - KUWAITI ECONOMY\\n  Kuwait's oil-reliant and debt-ridden\\n  economy has started to pull out of a nosedive but oil prices\\n  will determine the pace of recovery, bankers and economists\\n  say.\",\n",
       " 'Crucial will be the ability of the 13-member OPEC to hold\\n  oil prices around a new benchmark of 18 dlrs a barrel in the\\n  northern hemisphere summer when demand usually slackens.',\n",
       " 'Bankers estimate the economy, measured in terms of gross\\n  domestic product (gdp), shrank 19 pct in real terms last year\\n  after contracting 8.1 pct the year before.',\n",
       " 'This was after taking into account inflation in consumer\\n  prices of 1.5 pct in 1985, slowing to 1.0 pct in 1986.',\n",
       " \"Factors depressing economic activity include the\\n  6-1/2-year-old Iran-Iraq war on Kuwait's doorstep, which\\n  threatens the emirate's vital oil export lifeline through the\\n  Gulf and has sapped business confidence.\",\n",
       " 'But sentiment received a much-needed boost in September\\n  when, after a series of piecemeal steps to combat a debt crisis\\n  caused by the 1982 crash of local stock market, a comprehensive\\n  new debt settlement program was introduced.',\n",
       " 'The share crash, result of a speculative spree in forward\\n  trading, left 95 billion dlrs of post-dated cheques in default.',\n",
       " 'The cheques were also used as collateral for consumer\\n  spending, thus generating an informal credit system.',\n",
       " 'Much of the debt has been watered down but big sums are\\n  still owed by individuals and companies.',\n",
       " 'There was some 4.4 billion dinars (about 15.7 billion dlrs)\\n  in outstanding bank credit at the end of 1986, of which\\n  one-quarter to one-third was estimated by bankers to rank as\\n  bad or doubtful debt.',\n",
       " 'But the government has repeatedly said it\\n  will not allow any banks to go under.',\n",
       " 'The new debt settlement scheme entails a rescheduling of\\n  problem credit over 10 to 15 years, depending on whether\\n  debtors have regular cash flows or not.',\n",
       " \"Banks' shareholders and depositors will have their rights\\n  guaranteed by the government -- an edict of vital significance\\n  in a country of only 1.7 mln people where the financial sector\\n  is the biggest after oil.\",\n",
       " 'Kuwait is better placed than any other OPEC country to ride\\n  out the oil glut, bankers and economists say.',\n",
       " 'Kuwait has an OPEC quota of 948,000 barrels per day (bpd)\\n  compared with production capacity of 4.0 mln bpd mentioned last\\n  year by Oil Minister Sheikh Ali al-Khalifa al-Sabah.',\n",
       " 'But strategic diversification into downstream operations in\\n  Europe several years ago and a hefty refining investment at\\n  home gives it guaranteed markets abroad and enables it to sell\\n  over one-half of its output as high-grade refined oil products.',\n",
       " 'Oil industry sources say Kuwait is able to get an average\\n  2.00 dlrs a barrel more by selling oil in the form of processed\\n  product such as gas oil, kerosene and naphtha, rather than as\\n  crude.',\n",
       " 'Bankers say the rebound in oil prices is the major reason\\n  for cautious optimism.',\n",
       " 'Other reasons are low domestic\\n  inflation, a bottoming out of the fall in imports in recent\\n  years and signs government spending on productive sectors will\\n  remain steady.',\n",
       " 'External accounts are in good shape, with an estimated 1.8\\n  billion dinar current account surplus in 1986, 16 pct below\\n  that for 1985, but still an achievement in the recession-hit\\n  Gulf.',\n",
       " \"Kuwait's petrodollar reserves in mid-1986 were put\\n  officially at over 80 billion dlrs, earning investment income\\n  of the equivalent of about 3.65 billion dlrs a year.\",\n",
       " 'But for the first time since the end of the oil boom, these\\n  reserves may not be enough to prevent a \"real\" budget deficit for\\n  the 1986/87 fiscal year ending June 30, bankers say.',\n",
       " 'In a budget portrayed by bankers as mildly contractionary,\\n  revenues for 1986/87 were cut 38.6 pct and spending 11 pct,\\n  doubling the nominal deficit to 1.33 billion dinars.',\n",
       " 'This left out income from state reserves, usually excluded\\n  in official budget accounting, which are forecast by bankers at\\n  up to 1.0 billion dinars in 1986/87, resulting in some\\n  shortfall.',\n",
       " 'Bankers say it is too early to venture a forecast for\\n  economic growth this year or next.',\n",
       " '\"It depends on oil prices,\" one said.',\n",
       " '\"This summer is\\n  important.\"',\n",
       " 'Cabinet Affairs Minister Rashid al-Rashid said last Sunday\\n  the cabinet has ratified recommendations to rationalise state\\n  spending in favour of productive sectors and reactivate the\\n  economy.',\n",
       " 'He gave no details but bankers say these are expected to be\\n  spelled out in the 1987/88 budget, possibly in June.']"
      ]
     },
     "execution_count": 7,
     "metadata": {},
     "output_type": "execute_result"
    }
   ],
   "source": [
    "sent_tokenize(article)"
   ]
  }
 ],
 "metadata": {
  "interpreter": {
   "hash": "84823099e314c3f86caf21052ad9be025dc5c0efa0e9447fea07a785397463e8"
  },
  "kernelspec": {
   "display_name": "Python 3.7.11 ('dev')",
   "language": "python",
   "name": "python3"
  },
  "language_info": {
   "codemirror_mode": {
    "name": "ipython",
    "version": 3
   },
   "file_extension": ".py",
   "mimetype": "text/x-python",
   "name": "python",
   "nbconvert_exporter": "python",
   "pygments_lexer": "ipython3",
   "version": "3.7.11"
  }
 },
 "nbformat": 4,
 "nbformat_minor": 2
}
